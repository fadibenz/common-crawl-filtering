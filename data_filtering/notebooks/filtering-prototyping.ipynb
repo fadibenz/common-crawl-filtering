{
 "cells": [
  {
   "metadata": {},
   "cell_type": "markdown",
   "source": [
    "# Prototyping:\n",
    "I will use this notebook to prototype and do fast iterations on the different utilities I will implement."
   ],
   "id": "d62a18132de0215"
  },
  {
   "metadata": {
    "ExecuteTime": {
     "end_time": "2025-07-29T10:08:33.219376Z",
     "start_time": "2025-07-29T10:08:33.202111Z"
    }
   },
   "cell_type": "code",
   "source": [
    "from resiliparse.parse.encoding import detect_encoding, bytes_to_str\n",
    "from resiliparse.extract.html2text import extract_plain_text\n"
   ],
   "id": "869a5196ee53b351",
   "outputs": [],
   "execution_count": 9
  },
  {
   "metadata": {
    "ExecuteTime": {
     "end_time": "2025-07-29T10:16:20.537164Z",
     "start_time": "2025-07-29T10:16:20.526171Z"
    }
   },
   "cell_type": "code",
   "source": [
    "def extract_text(html_bytes:bytes) -> str:\n",
    "    decoded = bytes_to_str(html_bytes, detect_encoding(html_bytes))\n",
    "    text = extract_plain_text(decoded, noscript=True)\n",
    "    return text\n",
    "\n",
    "moby_path = \"../../tests/fixtures/moby.html\"\n",
    "with open(moby_path, \"rb\") as f:\n",
    "        moby_bytes = f.read()\n",
    "extract_text(moby_bytes)"
   ],
   "id": "26d172365e0785be",
   "outputs": [
    {
     "data": {
      "text/plain": [
       "\"Herman Melville - Moby-Dick\\n\\nAvailing himself of the mild, summer-cool weather that now reigned in these latitudes, and in preparation for the peculiarly active pursuits shortly to be anticipated, Perth, the begrimed, blistered old blacksmith, had not removed his portable forge to the hold again, after concluding his contributory work for Ahab's leg, but still retained it on deck, fast lashed to ringbolts by the foremast; being now almost incessantly invoked by the headsmen, and harpooneers, and bowsmen to do some little job for them; altering, or repairing, or new shaping their various weapons and boat furniture.\\n\\nThis is a test paragraph with a link.\\n\\n  • Novel\""
      ]
     },
     "execution_count": 17,
     "metadata": {},
     "output_type": "execute_result"
    }
   ],
   "execution_count": 17
  },
  {
   "metadata": {},
   "cell_type": "code",
   "outputs": [],
   "execution_count": null,
   "source": "",
   "id": "a9be34c6f7885c2"
  }
 ],
 "metadata": {
  "kernelspec": {
   "display_name": "Python 3",
   "language": "python",
   "name": "python3"
  },
  "language_info": {
   "codemirror_mode": {
    "name": "ipython",
    "version": 2
   },
   "file_extension": ".py",
   "mimetype": "text/x-python",
   "name": "python",
   "nbconvert_exporter": "python",
   "pygments_lexer": "ipython2",
   "version": "2.7.6"
  }
 },
 "nbformat": 4,
 "nbformat_minor": 5
}
