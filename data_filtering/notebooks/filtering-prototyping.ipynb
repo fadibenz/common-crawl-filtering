{
 "cells": [
  {
   "metadata": {},
   "cell_type": "markdown",
   "source": [
    "# Prototyping:\n",
    "I will use this notebook to prototype and do fast iterations on the different utilities I will implement."
   ],
   "id": "d62a18132de0215"
  },
  {
   "metadata": {
    "ExecuteTime": {
     "end_time": "2025-07-29T10:08:33.219376Z",
     "start_time": "2025-07-29T10:08:33.202111Z"
    }
   },
   "cell_type": "code",
   "source": [
    "from Scripts.rst2odt import output\n",
    "from resiliparse.parse.encoding import detect_encoding, bytes_to_str\n",
    "from resiliparse.extract.html2text import extract_plain_text\n"
   ],
   "id": "869a5196ee53b351",
   "outputs": [],
   "execution_count": 9
  },
  {
   "metadata": {
    "ExecuteTime": {
     "end_time": "2025-07-29T10:49:26.415974Z",
     "start_time": "2025-07-29T10:49:26.407385Z"
    }
   },
   "cell_type": "code",
   "source": [
    "def extract_text(html_bytes:bytes) -> str:\n",
    "    decoded = bytes_to_str(html_bytes, detect_encoding(html_bytes), fallback_encodings=[])\n",
    "    text = extract_plain_text(decoded, noscript=True)\n",
    "    return text\n",
    "\n",
    "moby_path = \"../../tests/fixtures/moby.html\"\n",
    "with open(moby_path, \"rb\") as f:\n",
    "        moby_bytes = f.read()\n",
    "extract_text(moby_bytes)"
   ],
   "id": "26d172365e0785be",
   "outputs": [
    {
     "data": {
      "text/plain": [
       "\"Herman Melville - Moby-Dick\\n\\nAvailing himself of the mild, summer-cool weather that now reigned in these latitudes, and in preparation for the peculiarly active pursuits shortly to be anticipated, Perth, the begrimed, blistered old blacksmith, had not removed his portable forge to the hold again, after concluding his contributory work for Ahab's leg, but still retained it on deck, fast lashed to ringbolts by the foremast; being now almost incessantly invoked by the headsmen, and harpooneers, and bowsmen to do some little job for them; altering, or repairing, or new shaping their various weapons and boat furniture.\\n\\nThis is a test paragraph with a link.\\n\\n  • Novel\""
      ]
     },
     "execution_count": 28,
     "metadata": {},
     "output_type": "execute_result"
    }
   ],
   "execution_count": 28
  },
  {
   "metadata": {
    "ExecuteTime": {
     "end_time": "2025-07-29T10:53:03.501754600Z",
     "start_time": "2025-07-29T10:52:27.557950Z"
    }
   },
   "cell_type": "code",
   "source": [
    "from fastwarc.warc import ArchiveIterator, WarcRecordType\n",
    "from fastwarc.stream_io import GZipStream, FileStream\n",
    "from pathlib import Path\n",
    "\n",
    "output_file = Path(\"../../data/CC-MAIN-20250417135010-20250417165010-00065.txt\")\n",
    "Path.touch(output_file, exist_ok=True)\n",
    "# \n",
    "stream = GZipStream(FileStream(\"../../data/CC-MAIN-20250417135010-20250417165010-00065.warc.gz\", \"rb\"))\n",
    "\n",
    "with open(output_file,\"a\", encoding=\"utf-8\") as f:\n",
    "    for record in ArchiveIterator(stream, record_types= WarcRecordType.response):\n",
    "        record_bytes = record.reader.read()\n",
    "        extracted_text = extract_text(record_bytes)\n",
    "        f.write(extracted_text)"
   ],
   "id": "a9be34c6f7885c2",
   "outputs": [
    {
     "ename": "KeyboardInterrupt",
     "evalue": "",
     "output_type": "error",
     "traceback": [
      "\u001B[31m---------------------------------------------------------------------------\u001B[39m",
      "\u001B[31mKeyboardInterrupt\u001B[39m                         Traceback (most recent call last)",
      "\u001B[36mCell\u001B[39m\u001B[36m \u001B[39m\u001B[32mIn[30]\u001B[39m\u001B[32m, line 13\u001B[39m\n\u001B[32m     11\u001B[39m \u001B[38;5;28;01mfor\u001B[39;00m record \u001B[38;5;129;01min\u001B[39;00m ArchiveIterator(stream, record_types= WarcRecordType.response):\n\u001B[32m     12\u001B[39m     record_bytes = record.reader.read()\n\u001B[32m---> \u001B[39m\u001B[32m13\u001B[39m     extracted_text = \u001B[43mextract_text\u001B[49m\u001B[43m(\u001B[49m\u001B[43mrecord_bytes\u001B[49m\u001B[43m)\u001B[49m\n\u001B[32m     14\u001B[39m     f.write(extracted_text)\n",
      "\u001B[36mCell\u001B[39m\u001B[36m \u001B[39m\u001B[32mIn[28]\u001B[39m\u001B[32m, line 3\u001B[39m, in \u001B[36mextract_text\u001B[39m\u001B[34m(html_bytes)\u001B[39m\n\u001B[32m      1\u001B[39m \u001B[38;5;28;01mdef\u001B[39;00m\u001B[38;5;250m \u001B[39m\u001B[34mextract_text\u001B[39m(html_bytes:\u001B[38;5;28mbytes\u001B[39m) -> \u001B[38;5;28mstr\u001B[39m:\n\u001B[32m      2\u001B[39m     decoded = bytes_to_str(html_bytes, detect_encoding(html_bytes), fallback_encodings=[])\n\u001B[32m----> \u001B[39m\u001B[32m3\u001B[39m     text = \u001B[43mextract_plain_text\u001B[49m\u001B[43m(\u001B[49m\u001B[43mdecoded\u001B[49m\u001B[43m,\u001B[49m\u001B[43m \u001B[49m\u001B[43mnoscript\u001B[49m\u001B[43m=\u001B[49m\u001B[38;5;28;43;01mTrue\u001B[39;49;00m\u001B[43m)\u001B[49m\n\u001B[32m      4\u001B[39m     \u001B[38;5;28;01mreturn\u001B[39;00m text\n",
      "\u001B[31mKeyboardInterrupt\u001B[39m: "
     ]
    }
   ],
   "execution_count": 30
  },
  {
   "metadata": {},
   "cell_type": "markdown",
   "source": "### Language identification",
   "id": "63d51e45ba03163e"
  },
  {
   "metadata": {
    "ExecuteTime": {
     "end_time": "2025-07-29T12:11:00.798401Z",
     "start_time": "2025-07-29T12:11:00.549555Z"
    }
   },
   "cell_type": "code",
   "source": [
    "import fasttext\n",
    "\n",
    "model = fasttext.load_model(\"../../classifier_models/fasttext_language_ID.bin\")\n",
    "label, proba = model.predict(\"c'est tres interessant et facile a utuliser n'est ce pas\")\n",
    "label[0][9:], float(proba[0])"
   ],
   "id": "df6f5e89af623d56",
   "outputs": [
    {
     "data": {
      "text/plain": [
       "('fr', 0.9914689660072327)"
      ]
     },
     "execution_count": 48,
     "metadata": {},
     "output_type": "execute_result"
    }
   ],
   "execution_count": 48
  },
  {
   "metadata": {},
   "cell_type": "markdown",
   "source": "### Masking PII",
   "id": "9b377a8bb8216b25"
  },
  {
   "metadata": {
    "ExecuteTime": {
     "end_time": "2025-07-29T15:58:54.809270Z",
     "start_time": "2025-07-29T15:58:54.794580Z"
    }
   },
   "cell_type": "code",
   "source": [
    "import re\n",
    "text = \"\"\"\n",
    "Hi John, please email me at john.doe@e.com or call \n",
    "My SSN is 123-45-6789 and I live at 1234 Elm Street.\n",
    "\"\"\"\n",
    "EMAIL_RE = r'\\b[a-zA-Z0-9._%+-]+@[a-zA-Z0-9.-]+\\.[a-zA-Z]{2,}\\b'\n",
    "PHONE_RE = re.compile(r'(\\+\\d{1,3}\\s?)?((\\(\\d{3}\\)\\s?)|(\\d{3})(\\s|-?))(\\d{3}(\\s|-?))(\\d{4})(\\s?(([Ee]xt[:\\.]?)|x|X)(\\s?\\d+))?')\n",
    "text_replaced, count = re.subn(EMAIL_RE, \"|||EMAIL_ADDRESS|||\", text)\n",
    "text_replaced, count = re.subn(PHONE_RE, \"|||PHONE_NUMBER|||\", text_replaced)\n",
    "text_replaced"
   ],
   "id": "28a5664b70eebe4a",
   "outputs": [
    {
     "data": {
      "text/plain": [
       "'\\nHi John, please email me at |||EMAIL_ADDRESS||| or call 98995849\\nMy SSN is 123-45-6789 and I live at 1234 Elm Street.\\n'"
      ]
     },
     "execution_count": 86,
     "metadata": {},
     "output_type": "execute_result"
    }
   ],
   "execution_count": 86
  },
  {
   "metadata": {},
   "cell_type": "code",
   "outputs": [],
   "execution_count": null,
   "source": "",
   "id": "2981fefb3f18c8ec"
  }
 ],
 "metadata": {
  "kernelspec": {
   "display_name": "Python 3",
   "language": "python",
   "name": "python3"
  },
  "language_info": {
   "codemirror_mode": {
    "name": "ipython",
    "version": 2
   },
   "file_extension": ".py",
   "mimetype": "text/x-python",
   "name": "python",
   "nbconvert_exporter": "python",
   "pygments_lexer": "ipython2",
   "version": "2.7.6"
  }
 },
 "nbformat": 4,
 "nbformat_minor": 5
}
