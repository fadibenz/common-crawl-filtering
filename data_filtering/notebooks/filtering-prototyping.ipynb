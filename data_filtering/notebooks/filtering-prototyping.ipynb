{
 "cells": [
  {
   "metadata": {},
   "cell_type": "markdown",
   "source": [
    "# Prototyping:\n",
    "I will use this notebook to prototype and do fast iterations on the different utilities I will implement."
   ],
   "id": "d62a18132de0215"
  },
  {
   "metadata": {
    "ExecuteTime": {
     "end_time": "2025-07-29T10:08:33.219376Z",
     "start_time": "2025-07-29T10:08:33.202111Z"
    }
   },
   "cell_type": "code",
   "source": [
    "from Scripts.rst2odt import output\n",
    "from resiliparse.parse.encoding import detect_encoding, bytes_to_str\n",
    "from resiliparse.extract.html2text import extract_plain_text\n"
   ],
   "id": "869a5196ee53b351",
   "outputs": [],
   "execution_count": 9
  },
  {
   "metadata": {
    "ExecuteTime": {
     "end_time": "2025-07-29T10:49:26.415974Z",
     "start_time": "2025-07-29T10:49:26.407385Z"
    }
   },
   "cell_type": "code",
   "source": [
    "def extract_text(html_bytes:bytes) -> str:\n",
    "    decoded = bytes_to_str(html_bytes, detect_encoding(html_bytes), fallback_encodings=[])\n",
    "    text = extract_plain_text(decoded, noscript=True)\n",
    "    return text\n",
    "\n",
    "moby_path = \"../../tests/fixtures/moby.html\"\n",
    "with open(moby_path, \"rb\") as f:\n",
    "        moby_bytes = f.read()\n",
    "extract_text(moby_bytes)"
   ],
   "id": "26d172365e0785be",
   "outputs": [
    {
     "data": {
      "text/plain": [
       "\"Herman Melville - Moby-Dick\\n\\nAvailing himself of the mild, summer-cool weather that now reigned in these latitudes, and in preparation for the peculiarly active pursuits shortly to be anticipated, Perth, the begrimed, blistered old blacksmith, had not removed his portable forge to the hold again, after concluding his contributory work for Ahab's leg, but still retained it on deck, fast lashed to ringbolts by the foremast; being now almost incessantly invoked by the headsmen, and harpooneers, and bowsmen to do some little job for them; altering, or repairing, or new shaping their various weapons and boat furniture.\\n\\nThis is a test paragraph with a link.\\n\\n  • Novel\""
      ]
     },
     "execution_count": 28,
     "metadata": {},
     "output_type": "execute_result"
    }
   ],
   "execution_count": 28
  },
  {
   "metadata": {
    "ExecuteTime": {
     "end_time": "2025-07-29T10:53:03.501754600Z",
     "start_time": "2025-07-29T10:52:27.557950Z"
    }
   },
   "cell_type": "code",
   "source": [
    "from fastwarc.warc import ArchiveIterator, WarcRecordType\n",
    "from fastwarc.stream_io import GZipStream, FileStream\n",
    "from pathlib import Path\n",
    "\n",
    "output_file = Path(\"../../data/CC-MAIN-20250417135010-20250417165010-00065.txt\")\n",
    "Path.touch(output_file, exist_ok=True)\n",
    "# \n",
    "stream = GZipStream(FileStream(\"../../data/CC-MAIN-20250417135010-20250417165010-00065.warc.gz\", \"rb\"))\n",
    "\n",
    "with open(output_file,\"a\", encoding=\"utf-8\") as f:\n",
    "    for record in ArchiveIterator(stream, record_types= WarcRecordType.response):\n",
    "        record_bytes = record.reader.read()\n",
    "        extracted_text = extract_text(record_bytes)\n",
    "        f.write(extracted_text)"
   ],
   "id": "a9be34c6f7885c2",
   "outputs": [
    {
     "ename": "KeyboardInterrupt",
     "evalue": "",
     "output_type": "error",
     "traceback": [
      "\u001B[31m---------------------------------------------------------------------------\u001B[39m",
      "\u001B[31mKeyboardInterrupt\u001B[39m                         Traceback (most recent call last)",
      "\u001B[36mCell\u001B[39m\u001B[36m \u001B[39m\u001B[32mIn[30]\u001B[39m\u001B[32m, line 13\u001B[39m\n\u001B[32m     11\u001B[39m \u001B[38;5;28;01mfor\u001B[39;00m record \u001B[38;5;129;01min\u001B[39;00m ArchiveIterator(stream, record_types= WarcRecordType.response):\n\u001B[32m     12\u001B[39m     record_bytes = record.reader.read()\n\u001B[32m---> \u001B[39m\u001B[32m13\u001B[39m     extracted_text = \u001B[43mextract_text\u001B[49m\u001B[43m(\u001B[49m\u001B[43mrecord_bytes\u001B[49m\u001B[43m)\u001B[49m\n\u001B[32m     14\u001B[39m     f.write(extracted_text)\n",
      "\u001B[36mCell\u001B[39m\u001B[36m \u001B[39m\u001B[32mIn[28]\u001B[39m\u001B[32m, line 3\u001B[39m, in \u001B[36mextract_text\u001B[39m\u001B[34m(html_bytes)\u001B[39m\n\u001B[32m      1\u001B[39m \u001B[38;5;28;01mdef\u001B[39;00m\u001B[38;5;250m \u001B[39m\u001B[34mextract_text\u001B[39m(html_bytes:\u001B[38;5;28mbytes\u001B[39m) -> \u001B[38;5;28mstr\u001B[39m:\n\u001B[32m      2\u001B[39m     decoded = bytes_to_str(html_bytes, detect_encoding(html_bytes), fallback_encodings=[])\n\u001B[32m----> \u001B[39m\u001B[32m3\u001B[39m     text = \u001B[43mextract_plain_text\u001B[49m\u001B[43m(\u001B[49m\u001B[43mdecoded\u001B[49m\u001B[43m,\u001B[49m\u001B[43m \u001B[49m\u001B[43mnoscript\u001B[49m\u001B[43m=\u001B[49m\u001B[38;5;28;43;01mTrue\u001B[39;49;00m\u001B[43m)\u001B[49m\n\u001B[32m      4\u001B[39m     \u001B[38;5;28;01mreturn\u001B[39;00m text\n",
      "\u001B[31mKeyboardInterrupt\u001B[39m: "
     ]
    }
   ],
   "execution_count": 30
  },
  {
   "metadata": {},
   "cell_type": "markdown",
   "source": "### Language identification",
   "id": "63d51e45ba03163e"
  },
  {
   "metadata": {
    "ExecuteTime": {
     "end_time": "2025-07-29T12:11:00.798401Z",
     "start_time": "2025-07-29T12:11:00.549555Z"
    }
   },
   "cell_type": "code",
   "source": [
    "import fasttext\n",
    "\n",
    "model = fasttext.load_model(\"../../classifier_models/fasttext_language_ID.bin\")\n",
    "label, proba = model.predict(\"c'est tres interessant et facile a utuliser n'est ce pas\")\n",
    "label[0][9:], float(proba[0])"
   ],
   "id": "df6f5e89af623d56",
   "outputs": [
    {
     "data": {
      "text/plain": [
       "('fr', 0.9914689660072327)"
      ]
     },
     "execution_count": 48,
     "metadata": {},
     "output_type": "execute_result"
    }
   ],
   "execution_count": 48
  },
  {
   "metadata": {},
   "cell_type": "markdown",
   "source": "### Masking PII",
   "id": "9b377a8bb8216b25"
  },
  {
   "metadata": {
    "ExecuteTime": {
     "end_time": "2025-07-29T15:58:54.809270Z",
     "start_time": "2025-07-29T15:58:54.794580Z"
    }
   },
   "cell_type": "code",
   "source": [
    "import re\n",
    "text = \"\"\"\n",
    "Hi John, please email me at john.doe@e.com or call \n",
    "My SSN is 123-45-6789 and I live at 1234 Elm Street.\n",
    "\"\"\"\n",
    "EMAIL_RE = r'\\b[a-zA-Z0-9._%+-]+@[a-zA-Z0-9.-]+\\.[a-zA-Z]{2,}\\b'\n",
    "PHONE_RE = re.compile(r'(\\+\\d{1,3}\\s?)?((\\(\\d{3}\\)\\s?)|(\\d{3})(\\s|-?))(\\d{3}(\\s|-?))(\\d{4})(\\s?(([Ee]xt[:\\.]?)|x|X)(\\s?\\d+))?')\n",
    "text_replaced, count = re.subn(EMAIL_RE, \"|||EMAIL_ADDRESS|||\", text)\n",
    "text_replaced, count = re.subn(PHONE_RE, \"|||PHONE_NUMBER|||\", text_replaced)\n",
    "text_replaced"
   ],
   "id": "28a5664b70eebe4a",
   "outputs": [
    {
     "data": {
      "text/plain": [
       "'\\nHi John, please email me at |||EMAIL_ADDRESS||| or call 98995849\\nMy SSN is 123-45-6789 and I live at 1234 Elm Street.\\n'"
      ]
     },
     "execution_count": 86,
     "metadata": {},
     "output_type": "execute_result"
    }
   ],
   "execution_count": 86
  },
  {
   "metadata": {},
   "cell_type": "markdown",
   "source": "### Harmful content",
   "id": "3ecdae4acec28fbc"
  },
  {
   "metadata": {
    "ExecuteTime": {
     "end_time": "2025-07-29T16:53:02.519788Z",
     "start_time": "2025-07-29T16:52:47.109673Z"
    }
   },
   "cell_type": "code",
   "source": "model_nsfw = fasttext.load_model(\"../../classifier_models/jigsaw_fasttext_bigrams_nsfw_final.bin\")",
   "id": "387f363c5bab737e",
   "outputs": [
    {
     "data": {
      "text/plain": [
       "(('__label__nsfw',), array([1.00001001]))"
      ]
     },
     "execution_count": 88,
     "metadata": {},
     "output_type": "execute_result"
    }
   ],
   "execution_count": 88
  },
  {
   "metadata": {
    "ExecuteTime": {
     "end_time": "2025-07-29T16:56:14.164487Z",
     "start_time": "2025-07-29T16:56:14.154895Z"
    }
   },
   "cell_type": "code",
   "source": "model_nsfw.predict(\"you are a piece of shit\")",
   "id": "14927da76d495db7",
   "outputs": [
    {
     "data": {
      "text/plain": [
       "(('__label__nsfw',), array([1.00001001]))"
      ]
     },
     "execution_count": 95,
     "metadata": {},
     "output_type": "execute_result"
    }
   ],
   "execution_count": 95
  },
  {
   "metadata": {},
   "cell_type": "code",
   "outputs": [],
   "execution_count": null,
   "source": "model_nsfw.predict(\"shit is a noun, it has been used recently in unpleasant ways but that does not mean we shouldn't use the word in scientific settings\")",
   "id": "996672a5eada08d1"
  },
  {
   "metadata": {
    "ExecuteTime": {
     "end_time": "2025-07-29T16:57:11.137327Z",
     "start_time": "2025-07-29T16:57:11.127679Z"
    }
   },
   "cell_type": "code",
   "source": "model_nsfw.predict(\"bitch is used to characterize the female dog, it has been used recently in unpleasant ways but that does not mean we shouldn't use the word in scientific settings\")",
   "id": "9b99738b696a4a1b",
   "outputs": [
    {
     "data": {
      "text/plain": [
       "(('__label__non-nsfw',), array([0.99772972]))"
      ]
     },
     "execution_count": 98,
     "metadata": {},
     "output_type": "execute_result"
    }
   ],
   "execution_count": 98
  },
  {
   "metadata": {},
   "cell_type": "markdown",
   "source": "### Deduplication",
   "id": "d68ec3230ec00432"
  },
  {
   "metadata": {
    "ExecuteTime": {
     "end_time": "2025-07-30T13:15:28.838019Z",
     "start_time": "2025-07-30T13:15:28.804435Z"
    }
   },
   "cell_type": "code",
   "source": [
    "# some normalization:\n",
    "import unicodedata\n",
    "import string\n",
    "import re\n",
    "text = \"\"\"   English text with café and résumé. Español con acentos: niño, mañana. \n",
    "        Français: être, très, où. português: coração, não, então.\"\"\"\n",
    "\n",
    "text = text.lower()    \n",
    "text = unicodedata.normalize(\"NFD\", text)\n",
    "text = \"\".join(char for char in text if unicodedata.category(char) != \"Mn\")\n",
    "text = text.translate(str.maketrans(\"\", \"\", string.punctuation))\n",
    "text = re.sub(r\"\\s+\", \" \", text).strip()\n",
    "word_list = text.split(\" \")\n",
    "n = 3\n",
    "ngrams_set = (set\n",
    "        (\" \".join(word for word in word_list[i: i + n])\n",
    "         for i in range(len(word_list) - n + 1)\n",
    "    ))\n",
    "ngrams_set"
   ],
   "id": "1da903f60cfce4fc",
   "outputs": [
    {
     "data": {
      "text/plain": [
       "{'acentos nino manana',\n",
       " 'and resume espanol',\n",
       " 'cafe and resume',\n",
       " 'con acentos nino',\n",
       " 'coracao nao entao',\n",
       " 'english text with',\n",
       " 'espanol con acentos',\n",
       " 'etre tres ou',\n",
       " 'francais etre tres',\n",
       " 'manana francais etre',\n",
       " 'nino manana francais',\n",
       " 'ou portugues coracao',\n",
       " 'portugues coracao nao',\n",
       " 'resume espanol con',\n",
       " 'text with cafe',\n",
       " 'tres ou portugues',\n",
       " 'with cafe and'}"
      ]
     },
     "execution_count": 26,
     "metadata": {},
     "output_type": "execute_result"
    }
   ],
   "execution_count": 26
  },
  {
   "metadata": {
    "ExecuteTime": {
     "end_time": "2025-07-30T13:17:07.832411Z",
     "start_time": "2025-07-30T13:17:07.812957Z"
    }
   },
   "cell_type": "code",
   "source": [
    "import mmh3\n",
    "num_hashes = 3\n",
    "signature = []\n",
    "for seed in range(num_hashes):\n",
    "        min_hash = min([mmh3.hash(ngram, seed) & 0xffffffff for ngram in ngrams_set]) \n",
    "        signature.append(min_hash)\n",
    "signature"
   ],
   "id": "58a6d0ba9f3f7226",
   "outputs": [
    {
     "data": {
      "text/plain": [
       "[103687852, 655216250, 40863664]"
      ]
     },
     "execution_count": 29,
     "metadata": {},
     "output_type": "execute_result"
    }
   ],
   "execution_count": 29
  },
  {
   "metadata": {
    "ExecuteTime": {
     "end_time": "2025-07-30T13:18:39.038677Z",
     "start_time": "2025-07-30T13:18:39.033995Z"
    }
   },
   "cell_type": "code",
   "source": [
    "def compute_minhash_signature(ngrams_set, num_hashes: int):\n",
    "    signature = []\n",
    "    for seed in range(num_hashes):\n",
    "        min_hash = min([mmh3.hash(ngram, seed) & 0xffffffff for ngram in ngrams_set])\n",
    "        signature.append(min_hash)\n",
    "    return signature"
   ],
   "id": "f1d0b34adf7041c8",
   "outputs": [],
   "execution_count": 31
  },
  {
   "metadata": {
    "ExecuteTime": {
     "end_time": "2025-07-30T13:18:40.969805Z",
     "start_time": "2025-07-30T13:18:40.953275Z"
    }
   },
   "cell_type": "code",
   "source": [
    "doc1 = {\"quick brown\", \"brown fox\", \"fox jumps\"}\n",
    "doc2 = {\"quick brown\", \"brown fox\", \"fox leaps\"}\n",
    "\n",
    "print(compute_minhash_signature(doc1, 10))\n",
    "print(compute_minhash_signature(doc2, 10))"
   ],
   "id": "97b0f126e9aa81b8",
   "outputs": [
    {
     "name": "stdout",
     "output_type": "stream",
     "text": [
      "[170037781, 2235656572, 1991133704, 2563705786, 189524970, 286324933, 816939020, 1006671516, 1294049192, 2706901154]\n",
      "[170037781, 814793719, 2038137965, 354557187, 2318800073, 286324933, 816939020, 1838360388, 1294049192, 877606299]\n"
     ]
    }
   ],
   "execution_count": 32
  },
  {
   "metadata": {},
   "cell_type": "code",
   "outputs": [],
   "execution_count": null,
   "source": "",
   "id": "987fa1561842e315"
  }
 ],
 "metadata": {
  "kernelspec": {
   "display_name": "Python 3",
   "language": "python",
   "name": "python3"
  },
  "language_info": {
   "codemirror_mode": {
    "name": "ipython",
    "version": 2
   },
   "file_extension": ".py",
   "mimetype": "text/x-python",
   "name": "python",
   "nbconvert_exporter": "python",
   "pygments_lexer": "ipython2",
   "version": "2.7.6"
  }
 },
 "nbformat": 4,
 "nbformat_minor": 5
}
